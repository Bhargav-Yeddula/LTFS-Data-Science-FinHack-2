{
  "nbformat": 4,
  "nbformat_minor": 0,
  "metadata": {
    "kernelspec": {
      "name": "python3",
      "display_name": "Python 3"
    },
    "language_info": {
      "codemirror_mode": {
        "name": "ipython",
        "version": 3
      },
      "file_extension": ".py",
      "mimetype": "text/x-python",
      "name": "python",
      "nbconvert_exporter": "python",
      "pygments_lexer": "ipython3",
      "version": "3.7.5"
    },
    "colab": {
      "name": "FinHack_AdaBoost_Simple_Model.ipynb",
      "provenance": [],
      "collapsed_sections": [],
      "machine_shape": "hm"
    },
    "accelerator": "GPU"
  },
  "cells": [
    {
      "cell_type": "code",
      "metadata": {
        "id": "MmbYxWmd5vPk",
        "colab_type": "code",
        "colab": {}
      },
      "source": [
        "# LTFS Data Science FinHack 2\n",
        "## https://datahack.analyticsvidhya.com/contest/ltfs-data-science-finhack-2-an-online-hackathon/"
      ],
      "execution_count": 0,
      "outputs": []
    },
    {
      "cell_type": "code",
      "metadata": {
        "id": "pbSpS-SgIvDF",
        "colab_type": "code",
        "colab": {}
      },
      "source": [
        "# Simple approach using Ada Boost\n",
        "## Public Leaderboard score - 13.4600818316021\n",
        "## Private Leader board score - 23.0178940307931"
      ],
      "execution_count": 0,
      "outputs": []
    },
    {
      "cell_type": "code",
      "metadata": {
        "id": "GtSv3ezLJFn0",
        "colab_type": "code",
        "colab": {}
      },
      "source": [
        "%reload_ext autoreload\n",
        "%autoreload 2"
      ],
      "execution_count": 0,
      "outputs": []
    },
    {
      "cell_type": "code",
      "metadata": {
        "id": "TiggEtraJFrk",
        "colab_type": "code",
        "colab": {}
      },
      "source": [
        "# importing Libraries\n",
        "import os\n",
        "import datetime\n",
        "from tqdm import tqdm\n",
        "## importing Fastai library for add_datepart function\n",
        "from fastai import *\n",
        "from sklearn.preprocessing import LabelEncoder\n",
        "from sklearn.metrics import mean_absolute_error\n",
        "from sklearn.tree import DecisionTreeRegressor\n",
        "from sklearn.ensemble import AdaBoostRegressor"
      ],
      "execution_count": 0,
      "outputs": []
    },
    {
      "cell_type": "code",
      "metadata": {
        "id": "nfSLccIawZVJ",
        "colab_type": "code",
        "outputId": "277500d3-c7b6-4e22-9615-5d91b59562fd",
        "colab": {
          "base_uri": "https://localhost:8080/",
          "height": 34
        }
      },
      "source": [
        "# Fixing Seed=2\n",
        "manualSeed = 2\n",
        "\n",
        "np.random.seed(manualSeed)\n",
        "random.seed(manualSeed)\n",
        "torch.manual_seed(manualSeed)"
      ],
      "execution_count": 293,
      "outputs": [
        {
          "output_type": "execute_result",
          "data": {
            "text/plain": [
              "<torch._C.Generator at 0x7f1ff460d6f0>"
            ]
          },
          "metadata": {
            "tags": []
          },
          "execution_count": 293
        }
      ]
    },
    {
      "cell_type": "code",
      "metadata": {
        "id": "W4_K48tRz4-H",
        "colab_type": "code",
        "outputId": "97768a89-4d60-46c4-f638-d0ee5ec6439d",
        "colab": {
          "base_uri": "https://localhost:8080/",
          "height": 34
        }
      },
      "source": [
        "# Mounting Google Drive\n",
        "from google.colab import drive\n",
        "drive.mount('/content/gdrive')"
      ],
      "execution_count": 294,
      "outputs": [
        {
          "output_type": "stream",
          "text": [
            "Drive already mounted at /content/gdrive; to attempt to forcibly remount, call drive.mount(\"/content/gdrive\", force_remount=True).\n"
          ],
          "name": "stdout"
        }
      ]
    },
    {
      "cell_type": "code",
      "metadata": {
        "id": "6KKSSKMp5vPx",
        "colab_type": "code",
        "colab": {
          "base_uri": "https://localhost:8080/",
          "height": 34
        },
        "outputId": "b03f4601-d50f-44be-f5f0-cf7f51d038e8"
      },
      "source": [
        "path=\"/content/gdrive/My Drive/AIML/Data Science FinHack 2/\"\n",
        "print(os.listdir(path))"
      ],
      "execution_count": 295,
      "outputs": [
        {
          "output_type": "stream",
          "text": [
            "['My_Dataset', 'My_Notebooks', 'My_Models', 'My_Outputs', 'Bin']\n"
          ],
          "name": "stdout"
        }
      ]
    },
    {
      "cell_type": "code",
      "metadata": {
        "id": "N8U8Per3SHiV",
        "colab_type": "code",
        "colab": {}
      },
      "source": [
        "# Function to convert date to pandas datetime datatype\n",
        "def cnv_2_datetime(df,col_name='application_date'):\n",
        "  df[col_name] = pd.to_datetime(df[col_name], format='%d-%m-%Y')\n",
        "  return df"
      ],
      "execution_count": 0,
      "outputs": []
    },
    {
      "cell_type": "code",
      "metadata": {
        "id": "xjV8h1fuSHfx",
        "colab_type": "code",
        "colab": {}
      },
      "source": [
        "# Function to convert categorical columns as pandas category type\n",
        "def cnv_2_category(df,col_names):\n",
        "  for col in col_names:\n",
        "    df[col] = df[col].astype('category')\n",
        "  return df"
      ],
      "execution_count": 0,
      "outputs": []
    },
    {
      "cell_type": "code",
      "metadata": {
        "id": "tmCU3UlWSHdZ",
        "colab_type": "code",
        "colab": {}
      },
      "source": [
        "# To drop columns\n",
        "def drop_col(df,col_names):\n",
        "  df.drop(col_names, axis=1,inplace=True)\n",
        "  return df"
      ],
      "execution_count": 0,
      "outputs": []
    },
    {
      "cell_type": "code",
      "metadata": {
        "id": "o4OFqjH4SM-Y",
        "colab_type": "code",
        "colab": {}
      },
      "source": [
        "# All above functions together\n",
        "def process_df(df,cat_names,drop_cols,col_name='application_date'):\n",
        "  df[col_name] = pd.to_datetime(df[col_name], format='%d-%m-%Y')\n",
        "  for col in cat_names:\n",
        "    df[col] = df[col].astype(str)\n",
        "  df.drop(drop_cols, axis=1,inplace=True)\n",
        "  return df"
      ],
      "execution_count": 0,
      "outputs": []
    },
    {
      "cell_type": "code",
      "metadata": {
        "id": "GoU2lVo75vP1",
        "colab_type": "code",
        "outputId": "b0c43e83-b33f-4ed4-d916-482c9acc2114",
        "colab": {
          "base_uri": "https://localhost:8080/",
          "height": 111
        }
      },
      "source": [
        "# Loading Datasets\n",
        "# Manually splitted .csv files into train and validation files from original files\n",
        "# Created test files from test .csv file to match train and validation sets format\n",
        "\n",
        "train_df_1 = pd.read_csv(path+'My_Dataset/'+'train_Seg_1.csv')\n",
        "valid_df_1 = pd.read_csv(path+'My_Dataset/'+'valid_Seg_1.csv')\n",
        "test_df_1 = pd.read_csv(path+'My_Dataset/'+'test_Seg_1.csv')\n",
        "\n",
        "#train_df_2 = pd.read_csv(path+'My_Dataset/'+'train_Seg_2.csv')\n",
        "#valid_df_2 = pd.read_csv(path+'My_Dataset/'+'valid_Seg_2.csv')\n",
        "#test_df_2 = pd.read_csv(path+'My_Dataset/'+'test_Seg_2.csv')\n",
        "\n",
        "##----For segment 2 \n",
        "# For segmet 2 there is no initial data for some of the states, i.e., there are 0 cases upto some initial time frame.\n",
        "#I manually deleted initial cases which are zeros and save files as below \n",
        "train_df_2 = pd.read_csv(path+'My_Dataset/'+'train_Seg_2_v1.csv')\n",
        "valid_df_2 = pd.read_csv(path+'My_Dataset/'+'valid_Seg_2_v1.csv')\n",
        "test_df_2 = pd.read_csv(path+'My_Dataset/'+'test_Seg_2_v1.csv')\n",
        "\n",
        "sub_df = pd.read_csv(path+'My_Dataset/'+'sample_submission_IIzFVsf.csv')\n",
        "\n",
        "pred_test_df_1=test_df_1.copy(deep=True)\n",
        "pred_test_df_2=test_df_2.copy(deep=True)\n",
        "train_df_1.head(2)"
      ],
      "execution_count": 300,
      "outputs": [
        {
          "output_type": "execute_result",
          "data": {
            "text/html": [
              "<div>\n",
              "<style scoped>\n",
              "    .dataframe tbody tr th:only-of-type {\n",
              "        vertical-align: middle;\n",
              "    }\n",
              "\n",
              "    .dataframe tbody tr th {\n",
              "        vertical-align: top;\n",
              "    }\n",
              "\n",
              "    .dataframe thead th {\n",
              "        text-align: right;\n",
              "    }\n",
              "</style>\n",
              "<table border=\"1\" class=\"dataframe\">\n",
              "  <thead>\n",
              "    <tr style=\"text-align: right;\">\n",
              "      <th></th>\n",
              "      <th>application_date</th>\n",
              "      <th>segment</th>\n",
              "      <th>branch_id</th>\n",
              "      <th>state</th>\n",
              "      <th>zone</th>\n",
              "      <th>case_count</th>\n",
              "    </tr>\n",
              "  </thead>\n",
              "  <tbody>\n",
              "    <tr>\n",
              "      <th>0</th>\n",
              "      <td>01-04-2017</td>\n",
              "      <td>1</td>\n",
              "      <td>1</td>\n",
              "      <td>WEST BENGAL</td>\n",
              "      <td>EAST</td>\n",
              "      <td>40</td>\n",
              "    </tr>\n",
              "    <tr>\n",
              "      <th>1</th>\n",
              "      <td>03-04-2017</td>\n",
              "      <td>1</td>\n",
              "      <td>1</td>\n",
              "      <td>WEST BENGAL</td>\n",
              "      <td>EAST</td>\n",
              "      <td>5</td>\n",
              "    </tr>\n",
              "  </tbody>\n",
              "</table>\n",
              "</div>"
            ],
            "text/plain": [
              "  application_date  segment  branch_id        state  zone  case_count\n",
              "0       01-04-2017        1          1  WEST BENGAL  EAST          40\n",
              "1       03-04-2017        1          1  WEST BENGAL  EAST           5"
            ]
          },
          "metadata": {
            "tags": []
          },
          "execution_count": 300
        }
      ]
    },
    {
      "cell_type": "code",
      "metadata": {
        "id": "622dnGejQ_-L",
        "colab_type": "code",
        "colab": {}
      },
      "source": [
        "dfs_1=[train_df_1,valid_df_1,test_df_1]\n",
        "dfs_2=[train_df_2,valid_df_2,test_df_2]"
      ],
      "execution_count": 0,
      "outputs": []
    },
    {
      "cell_type": "code",
      "metadata": {
        "id": "GLa8AJZARUGy",
        "colab_type": "code",
        "colab": {}
      },
      "source": [
        "for df in dfs_1:\n",
        "  df=cnv_2_datetime(df,col_name='application_date')\n",
        "for df in dfs_2:\n",
        "  df=cnv_2_datetime(df,col_name='application_date')"
      ],
      "execution_count": 0,
      "outputs": []
    },
    {
      "cell_type": "code",
      "metadata": {
        "id": "xZpmnBtIiLaH",
        "colab_type": "code",
        "outputId": "0ce82e75-b947-4996-b43e-b4d44b6c925a",
        "colab": {
          "base_uri": "https://localhost:8080/",
          "height": 34
        }
      },
      "source": [
        "train_df_1.shape"
      ],
      "execution_count": 303,
      "outputs": [
        {
          "output_type": "execute_result",
          "data": {
            "text/plain": [
              "(65321, 6)"
            ]
          },
          "metadata": {
            "tags": []
          },
          "execution_count": 303
        }
      ]
    },
    {
      "cell_type": "code",
      "metadata": {
        "id": "_GCWUIGbS6Q4",
        "colab_type": "code",
        "colab": {}
      },
      "source": [
        "# Adding holidays data\n",
        "# https://www.calendarlabs.com/holidays/india/2019\n",
        "with open(path+'My_Dataset/'+'Holidays.txt', 'r') as f:\n",
        "    x = f.readlines()"
      ],
      "execution_count": 0,
      "outputs": []
    },
    {
      "cell_type": "code",
      "metadata": {
        "id": "KROFA9IiTCa9",
        "colab_type": "code",
        "colab": {}
      },
      "source": [
        "Holiday_list=[]\n",
        "for i in x:\n",
        "  Holiday_list.append(i.rstrip('\\n'))\n",
        "#Holiday_list"
      ],
      "execution_count": 0,
      "outputs": []
    },
    {
      "cell_type": "code",
      "metadata": {
        "id": "MsrRSAJE23Ei",
        "colab_type": "code",
        "colab": {}
      },
      "source": [
        "# Getting columns for pre-processing\n",
        "cat_col_1=['branch_id','state','zone']\n",
        "cat_col_2=['state']\n",
        "drop_cols_1=['segment']\n",
        "drop_cols_2=['segment','branch_id','zone']\n",
        "pred_drop_cols_1=['segment']\n",
        "pred_drop_cols_2=['segment','branch_id','zone']"
      ],
      "execution_count": 0,
      "outputs": []
    },
    {
      "cell_type": "code",
      "metadata": {
        "id": "vH1k5OxU-apZ",
        "colab_type": "code",
        "colab": {}
      },
      "source": [
        "train_df_1 = process_df(train_df_1,cat_col_1,drop_cols_1)\n",
        "valid_df_1 = process_df(valid_df_1,cat_col_1,drop_cols_1)\n",
        "\n",
        "test_df_1 = process_df(test_df_1,cat_col_1,drop_cols_1)\n",
        "\n",
        "pred_test_df_1 = process_df(pred_test_df_1,cat_col_1,pred_drop_cols_1)\n"
      ],
      "execution_count": 0,
      "outputs": []
    },
    {
      "cell_type": "code",
      "metadata": {
        "id": "58S54Kww-yOV",
        "colab_type": "code",
        "colab": {}
      },
      "source": [
        "train_df_2 = process_df(train_df_2,cat_col_2,drop_cols_2)\n",
        "valid_df_2 = process_df(valid_df_2,cat_col_2,drop_cols_2)\n",
        "\n",
        "test_df_2 = process_df(test_df_2,cat_col_2,drop_cols_2)\n",
        "\n",
        "pred_test_df_2 = process_df(pred_test_df_2,cat_col_2,pred_drop_cols_2)"
      ],
      "execution_count": 0,
      "outputs": []
    },
    {
      "cell_type": "code",
      "metadata": {
        "id": "rTEl50dFHuGg",
        "colab_type": "code",
        "colab": {}
      },
      "source": [
        "def add_holidays(df,Holiday_list=Holiday_list):\n",
        "  df[\"is_holiday\"] = (df.application_date.astype(\"str\").isin(Holiday_list)).astype(int)\n",
        "  return df"
      ],
      "execution_count": 0,
      "outputs": []
    },
    {
      "cell_type": "code",
      "metadata": {
        "id": "yYgDQsI2HDfy",
        "colab_type": "code",
        "colab": {}
      },
      "source": [
        "train_df_1 = add_holidays(train_df_1)\n",
        "valid_df_1 = add_holidays(valid_df_1)\n",
        "test_df_1 = add_holidays(test_df_1)\n",
        "\n",
        "train_df_2 = add_holidays(train_df_2)\n",
        "valid_df_2 = add_holidays(valid_df_2)\n",
        "test_df_2 = add_holidays(test_df_2)"
      ],
      "execution_count": 0,
      "outputs": []
    },
    {
      "cell_type": "code",
      "metadata": {
        "id": "oI39rUPD9q-8",
        "colab_type": "code",
        "outputId": "97a3ea91-441e-45ff-ca5b-c72396ec6c31",
        "colab": {
          "base_uri": "https://localhost:8080/",
          "height": 136
        }
      },
      "source": [
        "train_df_1.dtypes"
      ],
      "execution_count": 311,
      "outputs": [
        {
          "output_type": "execute_result",
          "data": {
            "text/plain": [
              "application_date    datetime64[ns]\n",
              "branch_id                   object\n",
              "state                       object\n",
              "zone                        object\n",
              "case_count                   int64\n",
              "is_holiday                   int64\n",
              "dtype: object"
            ]
          },
          "metadata": {
            "tags": []
          },
          "execution_count": 311
        }
      ]
    },
    {
      "cell_type": "code",
      "metadata": {
        "id": "IJmfZ50sQFAs",
        "colab_type": "code",
        "outputId": "8f624c81-6d29-4d2d-d975-b6d9e0925223",
        "colab": {
          "base_uri": "https://localhost:8080/",
          "height": 111
        }
      },
      "source": [
        "train_df_1.head(2)"
      ],
      "execution_count": 312,
      "outputs": [
        {
          "output_type": "execute_result",
          "data": {
            "text/html": [
              "<div>\n",
              "<style scoped>\n",
              "    .dataframe tbody tr th:only-of-type {\n",
              "        vertical-align: middle;\n",
              "    }\n",
              "\n",
              "    .dataframe tbody tr th {\n",
              "        vertical-align: top;\n",
              "    }\n",
              "\n",
              "    .dataframe thead th {\n",
              "        text-align: right;\n",
              "    }\n",
              "</style>\n",
              "<table border=\"1\" class=\"dataframe\">\n",
              "  <thead>\n",
              "    <tr style=\"text-align: right;\">\n",
              "      <th></th>\n",
              "      <th>application_date</th>\n",
              "      <th>branch_id</th>\n",
              "      <th>state</th>\n",
              "      <th>zone</th>\n",
              "      <th>case_count</th>\n",
              "      <th>is_holiday</th>\n",
              "    </tr>\n",
              "  </thead>\n",
              "  <tbody>\n",
              "    <tr>\n",
              "      <th>0</th>\n",
              "      <td>2017-04-01</td>\n",
              "      <td>1</td>\n",
              "      <td>WEST BENGAL</td>\n",
              "      <td>EAST</td>\n",
              "      <td>40</td>\n",
              "      <td>0</td>\n",
              "    </tr>\n",
              "    <tr>\n",
              "      <th>1</th>\n",
              "      <td>2017-04-03</td>\n",
              "      <td>1</td>\n",
              "      <td>WEST BENGAL</td>\n",
              "      <td>EAST</td>\n",
              "      <td>5</td>\n",
              "      <td>0</td>\n",
              "    </tr>\n",
              "  </tbody>\n",
              "</table>\n",
              "</div>"
            ],
            "text/plain": [
              "  application_date branch_id        state  zone  case_count  is_holiday\n",
              "0       2017-04-01         1  WEST BENGAL  EAST          40           0\n",
              "1       2017-04-03         1  WEST BENGAL  EAST           5           0"
            ]
          },
          "metadata": {
            "tags": []
          },
          "execution_count": 312
        }
      ]
    },
    {
      "cell_type": "code",
      "metadata": {
        "id": "zg-7FdVtGoMS",
        "colab_type": "code",
        "outputId": "f5dad696-35c1-465f-cedc-a84c672463b1",
        "colab": {
          "base_uri": "https://localhost:8080/",
          "height": 524
        }
      },
      "source": [
        "# Adding date time features\n",
        "add_datepart(train_df_1,'application_date',drop=True,time=False)\n",
        "add_datepart(valid_df_1,'application_date',drop=True,time=False)\n",
        "\n",
        "add_datepart(test_df_1,'application_date',drop=True,time=False)\n",
        "\n",
        "add_datepart(train_df_2,'application_date',drop=True,time=False)\n",
        "add_datepart(valid_df_2,'application_date',drop=True,time=False)\n",
        "\n",
        "add_datepart(test_df_2,'application_date',drop=True,time=False)"
      ],
      "execution_count": 313,
      "outputs": [
        {
          "output_type": "execute_result",
          "data": {
            "text/html": [
              "<div>\n",
              "<style scoped>\n",
              "    .dataframe tbody tr th:only-of-type {\n",
              "        vertical-align: middle;\n",
              "    }\n",
              "\n",
              "    .dataframe tbody tr th {\n",
              "        vertical-align: top;\n",
              "    }\n",
              "\n",
              "    .dataframe thead th {\n",
              "        text-align: right;\n",
              "    }\n",
              "</style>\n",
              "<table border=\"1\" class=\"dataframe\">\n",
              "  <thead>\n",
              "    <tr style=\"text-align: right;\">\n",
              "      <th></th>\n",
              "      <th>state</th>\n",
              "      <th>is_holiday</th>\n",
              "      <th>application_Year</th>\n",
              "      <th>application_Month</th>\n",
              "      <th>application_Week</th>\n",
              "      <th>application_Day</th>\n",
              "      <th>application_Dayofweek</th>\n",
              "      <th>application_Dayofyear</th>\n",
              "      <th>application_Is_month_end</th>\n",
              "      <th>application_Is_month_start</th>\n",
              "      <th>application_Is_quarter_end</th>\n",
              "      <th>application_Is_quarter_start</th>\n",
              "      <th>application_Is_year_end</th>\n",
              "      <th>application_Is_year_start</th>\n",
              "      <th>application_Elapsed</th>\n",
              "    </tr>\n",
              "  </thead>\n",
              "  <tbody>\n",
              "    <tr>\n",
              "      <th>0</th>\n",
              "      <td>ASSAM</td>\n",
              "      <td>0</td>\n",
              "      <td>2019</td>\n",
              "      <td>7</td>\n",
              "      <td>30</td>\n",
              "      <td>24</td>\n",
              "      <td>2</td>\n",
              "      <td>205</td>\n",
              "      <td>False</td>\n",
              "      <td>False</td>\n",
              "      <td>False</td>\n",
              "      <td>False</td>\n",
              "      <td>False</td>\n",
              "      <td>False</td>\n",
              "      <td>1563926400</td>\n",
              "    </tr>\n",
              "    <tr>\n",
              "      <th>1</th>\n",
              "      <td>ASSAM</td>\n",
              "      <td>0</td>\n",
              "      <td>2019</td>\n",
              "      <td>7</td>\n",
              "      <td>30</td>\n",
              "      <td>25</td>\n",
              "      <td>3</td>\n",
              "      <td>206</td>\n",
              "      <td>False</td>\n",
              "      <td>False</td>\n",
              "      <td>False</td>\n",
              "      <td>False</td>\n",
              "      <td>False</td>\n",
              "      <td>False</td>\n",
              "      <td>1564012800</td>\n",
              "    </tr>\n",
              "    <tr>\n",
              "      <th>2</th>\n",
              "      <td>ASSAM</td>\n",
              "      <td>0</td>\n",
              "      <td>2019</td>\n",
              "      <td>7</td>\n",
              "      <td>30</td>\n",
              "      <td>26</td>\n",
              "      <td>4</td>\n",
              "      <td>207</td>\n",
              "      <td>False</td>\n",
              "      <td>False</td>\n",
              "      <td>False</td>\n",
              "      <td>False</td>\n",
              "      <td>False</td>\n",
              "      <td>False</td>\n",
              "      <td>1564099200</td>\n",
              "    </tr>\n",
              "    <tr>\n",
              "      <th>3</th>\n",
              "      <td>ASSAM</td>\n",
              "      <td>0</td>\n",
              "      <td>2019</td>\n",
              "      <td>7</td>\n",
              "      <td>30</td>\n",
              "      <td>27</td>\n",
              "      <td>5</td>\n",
              "      <td>208</td>\n",
              "      <td>False</td>\n",
              "      <td>False</td>\n",
              "      <td>False</td>\n",
              "      <td>False</td>\n",
              "      <td>False</td>\n",
              "      <td>False</td>\n",
              "      <td>1564185600</td>\n",
              "    </tr>\n",
              "    <tr>\n",
              "      <th>4</th>\n",
              "      <td>ASSAM</td>\n",
              "      <td>0</td>\n",
              "      <td>2019</td>\n",
              "      <td>7</td>\n",
              "      <td>30</td>\n",
              "      <td>28</td>\n",
              "      <td>6</td>\n",
              "      <td>209</td>\n",
              "      <td>False</td>\n",
              "      <td>False</td>\n",
              "      <td>False</td>\n",
              "      <td>False</td>\n",
              "      <td>False</td>\n",
              "      <td>False</td>\n",
              "      <td>1564272000</td>\n",
              "    </tr>\n",
              "    <tr>\n",
              "      <th>...</th>\n",
              "      <td>...</td>\n",
              "      <td>...</td>\n",
              "      <td>...</td>\n",
              "      <td>...</td>\n",
              "      <td>...</td>\n",
              "      <td>...</td>\n",
              "      <td>...</td>\n",
              "      <td>...</td>\n",
              "      <td>...</td>\n",
              "      <td>...</td>\n",
              "      <td>...</td>\n",
              "      <td>...</td>\n",
              "      <td>...</td>\n",
              "      <td>...</td>\n",
              "      <td>...</td>\n",
              "    </tr>\n",
              "    <tr>\n",
              "      <th>1297</th>\n",
              "      <td>WEST BENGAL</td>\n",
              "      <td>0</td>\n",
              "      <td>2019</td>\n",
              "      <td>10</td>\n",
              "      <td>42</td>\n",
              "      <td>20</td>\n",
              "      <td>6</td>\n",
              "      <td>293</td>\n",
              "      <td>False</td>\n",
              "      <td>False</td>\n",
              "      <td>False</td>\n",
              "      <td>False</td>\n",
              "      <td>False</td>\n",
              "      <td>False</td>\n",
              "      <td>1571529600</td>\n",
              "    </tr>\n",
              "    <tr>\n",
              "      <th>1298</th>\n",
              "      <td>WEST BENGAL</td>\n",
              "      <td>0</td>\n",
              "      <td>2019</td>\n",
              "      <td>10</td>\n",
              "      <td>43</td>\n",
              "      <td>21</td>\n",
              "      <td>0</td>\n",
              "      <td>294</td>\n",
              "      <td>False</td>\n",
              "      <td>False</td>\n",
              "      <td>False</td>\n",
              "      <td>False</td>\n",
              "      <td>False</td>\n",
              "      <td>False</td>\n",
              "      <td>1571616000</td>\n",
              "    </tr>\n",
              "    <tr>\n",
              "      <th>1299</th>\n",
              "      <td>WEST BENGAL</td>\n",
              "      <td>0</td>\n",
              "      <td>2019</td>\n",
              "      <td>10</td>\n",
              "      <td>43</td>\n",
              "      <td>22</td>\n",
              "      <td>1</td>\n",
              "      <td>295</td>\n",
              "      <td>False</td>\n",
              "      <td>False</td>\n",
              "      <td>False</td>\n",
              "      <td>False</td>\n",
              "      <td>False</td>\n",
              "      <td>False</td>\n",
              "      <td>1571702400</td>\n",
              "    </tr>\n",
              "    <tr>\n",
              "      <th>1300</th>\n",
              "      <td>WEST BENGAL</td>\n",
              "      <td>0</td>\n",
              "      <td>2019</td>\n",
              "      <td>10</td>\n",
              "      <td>43</td>\n",
              "      <td>23</td>\n",
              "      <td>2</td>\n",
              "      <td>296</td>\n",
              "      <td>False</td>\n",
              "      <td>False</td>\n",
              "      <td>False</td>\n",
              "      <td>False</td>\n",
              "      <td>False</td>\n",
              "      <td>False</td>\n",
              "      <td>1571788800</td>\n",
              "    </tr>\n",
              "    <tr>\n",
              "      <th>1301</th>\n",
              "      <td>WEST BENGAL</td>\n",
              "      <td>0</td>\n",
              "      <td>2019</td>\n",
              "      <td>10</td>\n",
              "      <td>43</td>\n",
              "      <td>24</td>\n",
              "      <td>3</td>\n",
              "      <td>297</td>\n",
              "      <td>False</td>\n",
              "      <td>False</td>\n",
              "      <td>False</td>\n",
              "      <td>False</td>\n",
              "      <td>False</td>\n",
              "      <td>False</td>\n",
              "      <td>1571875200</td>\n",
              "    </tr>\n",
              "  </tbody>\n",
              "</table>\n",
              "<p>1302 rows × 15 columns</p>\n",
              "</div>"
            ],
            "text/plain": [
              "            state  is_holiday  ...  application_Is_year_start  application_Elapsed\n",
              "0           ASSAM           0  ...                      False           1563926400\n",
              "1           ASSAM           0  ...                      False           1564012800\n",
              "2           ASSAM           0  ...                      False           1564099200\n",
              "3           ASSAM           0  ...                      False           1564185600\n",
              "4           ASSAM           0  ...                      False           1564272000\n",
              "...           ...         ...  ...                        ...                  ...\n",
              "1297  WEST BENGAL           0  ...                      False           1571529600\n",
              "1298  WEST BENGAL           0  ...                      False           1571616000\n",
              "1299  WEST BENGAL           0  ...                      False           1571702400\n",
              "1300  WEST BENGAL           0  ...                      False           1571788800\n",
              "1301  WEST BENGAL           0  ...                      False           1571875200\n",
              "\n",
              "[1302 rows x 15 columns]"
            ]
          },
          "metadata": {
            "tags": []
          },
          "execution_count": 313
        }
      ]
    },
    {
      "cell_type": "code",
      "metadata": {
        "id": "HJG_qw8J71yJ",
        "colab_type": "code",
        "outputId": "44cc2a33-b7ef-42f1-a016-714fb548a8ff",
        "colab": {
          "base_uri": "https://localhost:8080/",
          "height": 165
        }
      },
      "source": [
        "train_df_1.head(2)"
      ],
      "execution_count": 314,
      "outputs": [
        {
          "output_type": "execute_result",
          "data": {
            "text/html": [
              "<div>\n",
              "<style scoped>\n",
              "    .dataframe tbody tr th:only-of-type {\n",
              "        vertical-align: middle;\n",
              "    }\n",
              "\n",
              "    .dataframe tbody tr th {\n",
              "        vertical-align: top;\n",
              "    }\n",
              "\n",
              "    .dataframe thead th {\n",
              "        text-align: right;\n",
              "    }\n",
              "</style>\n",
              "<table border=\"1\" class=\"dataframe\">\n",
              "  <thead>\n",
              "    <tr style=\"text-align: right;\">\n",
              "      <th></th>\n",
              "      <th>branch_id</th>\n",
              "      <th>state</th>\n",
              "      <th>zone</th>\n",
              "      <th>case_count</th>\n",
              "      <th>is_holiday</th>\n",
              "      <th>application_Year</th>\n",
              "      <th>application_Month</th>\n",
              "      <th>application_Week</th>\n",
              "      <th>application_Day</th>\n",
              "      <th>application_Dayofweek</th>\n",
              "      <th>application_Dayofyear</th>\n",
              "      <th>application_Is_month_end</th>\n",
              "      <th>application_Is_month_start</th>\n",
              "      <th>application_Is_quarter_end</th>\n",
              "      <th>application_Is_quarter_start</th>\n",
              "      <th>application_Is_year_end</th>\n",
              "      <th>application_Is_year_start</th>\n",
              "      <th>application_Elapsed</th>\n",
              "    </tr>\n",
              "  </thead>\n",
              "  <tbody>\n",
              "    <tr>\n",
              "      <th>0</th>\n",
              "      <td>1</td>\n",
              "      <td>WEST BENGAL</td>\n",
              "      <td>EAST</td>\n",
              "      <td>40</td>\n",
              "      <td>0</td>\n",
              "      <td>2017</td>\n",
              "      <td>4</td>\n",
              "      <td>13</td>\n",
              "      <td>1</td>\n",
              "      <td>5</td>\n",
              "      <td>91</td>\n",
              "      <td>False</td>\n",
              "      <td>True</td>\n",
              "      <td>False</td>\n",
              "      <td>True</td>\n",
              "      <td>False</td>\n",
              "      <td>False</td>\n",
              "      <td>1491004800</td>\n",
              "    </tr>\n",
              "    <tr>\n",
              "      <th>1</th>\n",
              "      <td>1</td>\n",
              "      <td>WEST BENGAL</td>\n",
              "      <td>EAST</td>\n",
              "      <td>5</td>\n",
              "      <td>0</td>\n",
              "      <td>2017</td>\n",
              "      <td>4</td>\n",
              "      <td>14</td>\n",
              "      <td>3</td>\n",
              "      <td>0</td>\n",
              "      <td>93</td>\n",
              "      <td>False</td>\n",
              "      <td>False</td>\n",
              "      <td>False</td>\n",
              "      <td>False</td>\n",
              "      <td>False</td>\n",
              "      <td>False</td>\n",
              "      <td>1491177600</td>\n",
              "    </tr>\n",
              "  </tbody>\n",
              "</table>\n",
              "</div>"
            ],
            "text/plain": [
              "  branch_id        state  ... application_Is_year_start  application_Elapsed\n",
              "0         1  WEST BENGAL  ...                     False           1491004800\n",
              "1         1  WEST BENGAL  ...                     False           1491177600\n",
              "\n",
              "[2 rows x 18 columns]"
            ]
          },
          "metadata": {
            "tags": []
          },
          "execution_count": 314
        }
      ]
    },
    {
      "cell_type": "code",
      "metadata": {
        "id": "j6nPpg_A2VF4",
        "colab_type": "code",
        "colab": {}
      },
      "source": [
        "states=train_df_1['state'].unique()\n",
        "zones=train_df_1['zone'].unique()\n",
        "bid=train_df_1['branch_id'].unique()"
      ],
      "execution_count": 0,
      "outputs": []
    },
    {
      "cell_type": "code",
      "metadata": {
        "id": "aPZl9QCR2xlt",
        "colab_type": "code",
        "colab": {}
      },
      "source": [
        "# Encoding labels for categorical variables\n",
        "le=LabelEncoder()\n",
        "state_labels=le.fit_transform(states)\n",
        "zone_labels=le.fit_transform(zones)\n",
        "bid_labels=le.fit_transform(bid)"
      ],
      "execution_count": 0,
      "outputs": []
    },
    {
      "cell_type": "code",
      "metadata": {
        "id": "KjRAXPDm3ZTd",
        "colab_type": "code",
        "colab": {}
      },
      "source": [
        "state_dict={}\n",
        "state_dict_rev={}\n",
        "j=0\n",
        "for i in states:\n",
        "  state_dict[i]=state_labels[j]\n",
        "  state_dict_rev[state_labels[j]]=i\n",
        "  j+=1\n",
        "\n",
        "zone_dict={}\n",
        "zone_dict_rev={}\n",
        "j=0\n",
        "for i in zones:\n",
        "  zone_dict[i]=zone_labels[j]\n",
        "  zone_dict_rev[zone_labels[j]]=i\n",
        "  j+=1\n",
        "\n",
        "bid_dict={}\n",
        "bid_dict_rev={}\n",
        "j=0\n",
        "for i in bid:\n",
        "  bid_dict[i]=bid_labels[j]\n",
        "  bid_dict_rev[bid_labels[j]]=i\n",
        "  j+=1"
      ],
      "execution_count": 0,
      "outputs": []
    },
    {
      "cell_type": "code",
      "metadata": {
        "id": "-Wu6PZN62VCX",
        "colab_type": "code",
        "outputId": "d1f9a6a6-3572-40b5-d671-c94d9b0bd5c9",
        "colab": {
          "base_uri": "https://localhost:8080/",
          "height": 357
        }
      },
      "source": [
        "state_dict"
      ],
      "execution_count": 318,
      "outputs": [
        {
          "output_type": "execute_result",
          "data": {
            "text/plain": [
              "{'ANDHRA PRADESH': 0,\n",
              " 'ASSAM': 1,\n",
              " 'BIHAR': 2,\n",
              " 'CHHATTISGARH': 3,\n",
              " 'DELHI': 4,\n",
              " 'GUJARAT': 5,\n",
              " 'HARYANA': 6,\n",
              " 'JHARKHAND': 7,\n",
              " 'KARNATAKA': 8,\n",
              " 'KERALA': 9,\n",
              " 'MADHYA PRADESH': 10,\n",
              " 'MAHARASHTRA': 11,\n",
              " 'ORISSA': 12,\n",
              " 'PUNJAB': 13,\n",
              " 'TAMIL NADU': 14,\n",
              " 'TELANGANA': 15,\n",
              " 'TRIPURA': 16,\n",
              " 'UTTAR PRADESH': 17,\n",
              " 'UTTARAKHAND': 18,\n",
              " 'WEST BENGAL': 19}"
            ]
          },
          "metadata": {
            "tags": []
          },
          "execution_count": 318
        }
      ]
    },
    {
      "cell_type": "code",
      "metadata": {
        "id": "C6R4vcrl7mn5",
        "colab_type": "code",
        "outputId": "7fe71efb-315e-4d16-c721-14cf7ddb7a2c",
        "colab": {
          "base_uri": "https://localhost:8080/",
          "height": 34
        }
      },
      "source": [
        "zone_dict"
      ],
      "execution_count": 319,
      "outputs": [
        {
          "output_type": "execute_result",
          "data": {
            "text/plain": [
              "{'CENTRAL': 0, 'EAST': 1, 'NORTH': 2, 'SOUTH': 3, 'WEST': 4}"
            ]
          },
          "metadata": {
            "tags": []
          },
          "execution_count": 319
        }
      ]
    },
    {
      "cell_type": "code",
      "metadata": {
        "id": "KgTRVA0W7rdi",
        "colab_type": "code",
        "colab": {}
      },
      "source": [
        "# Encoding labels for categorical variables\n",
        "train_df_1['state'] = train_df_1['state'].apply(lambda x: state_dict[x])\n",
        "train_df_1['zone'] = train_df_1['zone'].apply(lambda x: zone_dict[x])\n",
        "train_df_1['branch_id'] = train_df_1['branch_id'].apply(lambda x: bid_dict[x])\n",
        "\n",
        "valid_df_1['state'] = valid_df_1['state'].apply(lambda x: state_dict[x])\n",
        "valid_df_1['zone'] = valid_df_1['zone'].apply(lambda x: zone_dict[x])\n",
        "valid_df_1['branch_id'] = valid_df_1['branch_id'].apply(lambda x: bid_dict[x])\n",
        " \n",
        "test_df_1['state'] = test_df_1['state'].apply(lambda x: state_dict[x])\n",
        "test_df_1['zone'] = test_df_1['zone'].apply(lambda x: zone_dict[x])\n",
        "test_df_1['branch_id'] = test_df_1['branch_id'].apply(lambda x: bid_dict[x])\n",
        "\n",
        "train_df_2['state'] = train_df_2['state'].apply(lambda x: state_dict[x])\n",
        "valid_df_2['state'] = valid_df_2['state'].apply(lambda x: state_dict[x])\n",
        "test_df_2['state'] = test_df_2['state'].apply(lambda x: state_dict[x])"
      ],
      "execution_count": 0,
      "outputs": []
    },
    {
      "cell_type": "code",
      "metadata": {
        "id": "A2bciUZs7ra5",
        "colab_type": "code",
        "outputId": "10cc5ead-bb97-4ecc-aa82-b5974f93c17d",
        "colab": {
          "base_uri": "https://localhost:8080/",
          "height": 224
        }
      },
      "source": [
        "train_df_1.head()"
      ],
      "execution_count": 321,
      "outputs": [
        {
          "output_type": "execute_result",
          "data": {
            "text/html": [
              "<div>\n",
              "<style scoped>\n",
              "    .dataframe tbody tr th:only-of-type {\n",
              "        vertical-align: middle;\n",
              "    }\n",
              "\n",
              "    .dataframe tbody tr th {\n",
              "        vertical-align: top;\n",
              "    }\n",
              "\n",
              "    .dataframe thead th {\n",
              "        text-align: right;\n",
              "    }\n",
              "</style>\n",
              "<table border=\"1\" class=\"dataframe\">\n",
              "  <thead>\n",
              "    <tr style=\"text-align: right;\">\n",
              "      <th></th>\n",
              "      <th>branch_id</th>\n",
              "      <th>state</th>\n",
              "      <th>zone</th>\n",
              "      <th>case_count</th>\n",
              "      <th>is_holiday</th>\n",
              "      <th>application_Year</th>\n",
              "      <th>application_Month</th>\n",
              "      <th>application_Week</th>\n",
              "      <th>application_Day</th>\n",
              "      <th>application_Dayofweek</th>\n",
              "      <th>application_Dayofyear</th>\n",
              "      <th>application_Is_month_end</th>\n",
              "      <th>application_Is_month_start</th>\n",
              "      <th>application_Is_quarter_end</th>\n",
              "      <th>application_Is_quarter_start</th>\n",
              "      <th>application_Is_year_end</th>\n",
              "      <th>application_Is_year_start</th>\n",
              "      <th>application_Elapsed</th>\n",
              "    </tr>\n",
              "  </thead>\n",
              "  <tbody>\n",
              "    <tr>\n",
              "      <th>0</th>\n",
              "      <td>0</td>\n",
              "      <td>19</td>\n",
              "      <td>1</td>\n",
              "      <td>40</td>\n",
              "      <td>0</td>\n",
              "      <td>2017</td>\n",
              "      <td>4</td>\n",
              "      <td>13</td>\n",
              "      <td>1</td>\n",
              "      <td>5</td>\n",
              "      <td>91</td>\n",
              "      <td>False</td>\n",
              "      <td>True</td>\n",
              "      <td>False</td>\n",
              "      <td>True</td>\n",
              "      <td>False</td>\n",
              "      <td>False</td>\n",
              "      <td>1491004800</td>\n",
              "    </tr>\n",
              "    <tr>\n",
              "      <th>1</th>\n",
              "      <td>0</td>\n",
              "      <td>19</td>\n",
              "      <td>1</td>\n",
              "      <td>5</td>\n",
              "      <td>0</td>\n",
              "      <td>2017</td>\n",
              "      <td>4</td>\n",
              "      <td>14</td>\n",
              "      <td>3</td>\n",
              "      <td>0</td>\n",
              "      <td>93</td>\n",
              "      <td>False</td>\n",
              "      <td>False</td>\n",
              "      <td>False</td>\n",
              "      <td>False</td>\n",
              "      <td>False</td>\n",
              "      <td>False</td>\n",
              "      <td>1491177600</td>\n",
              "    </tr>\n",
              "    <tr>\n",
              "      <th>2</th>\n",
              "      <td>0</td>\n",
              "      <td>19</td>\n",
              "      <td>1</td>\n",
              "      <td>4</td>\n",
              "      <td>0</td>\n",
              "      <td>2017</td>\n",
              "      <td>4</td>\n",
              "      <td>14</td>\n",
              "      <td>4</td>\n",
              "      <td>1</td>\n",
              "      <td>94</td>\n",
              "      <td>False</td>\n",
              "      <td>False</td>\n",
              "      <td>False</td>\n",
              "      <td>False</td>\n",
              "      <td>False</td>\n",
              "      <td>False</td>\n",
              "      <td>1491264000</td>\n",
              "    </tr>\n",
              "    <tr>\n",
              "      <th>3</th>\n",
              "      <td>0</td>\n",
              "      <td>19</td>\n",
              "      <td>1</td>\n",
              "      <td>113</td>\n",
              "      <td>1</td>\n",
              "      <td>2017</td>\n",
              "      <td>4</td>\n",
              "      <td>14</td>\n",
              "      <td>5</td>\n",
              "      <td>2</td>\n",
              "      <td>95</td>\n",
              "      <td>False</td>\n",
              "      <td>False</td>\n",
              "      <td>False</td>\n",
              "      <td>False</td>\n",
              "      <td>False</td>\n",
              "      <td>False</td>\n",
              "      <td>1491350400</td>\n",
              "    </tr>\n",
              "    <tr>\n",
              "      <th>4</th>\n",
              "      <td>0</td>\n",
              "      <td>19</td>\n",
              "      <td>1</td>\n",
              "      <td>76</td>\n",
              "      <td>0</td>\n",
              "      <td>2017</td>\n",
              "      <td>4</td>\n",
              "      <td>14</td>\n",
              "      <td>7</td>\n",
              "      <td>4</td>\n",
              "      <td>97</td>\n",
              "      <td>False</td>\n",
              "      <td>False</td>\n",
              "      <td>False</td>\n",
              "      <td>False</td>\n",
              "      <td>False</td>\n",
              "      <td>False</td>\n",
              "      <td>1491523200</td>\n",
              "    </tr>\n",
              "  </tbody>\n",
              "</table>\n",
              "</div>"
            ],
            "text/plain": [
              "   branch_id  state  ...  application_Is_year_start  application_Elapsed\n",
              "0          0     19  ...                      False           1491004800\n",
              "1          0     19  ...                      False           1491177600\n",
              "2          0     19  ...                      False           1491264000\n",
              "3          0     19  ...                      False           1491350400\n",
              "4          0     19  ...                      False           1491523200\n",
              "\n",
              "[5 rows x 18 columns]"
            ]
          },
          "metadata": {
            "tags": []
          },
          "execution_count": 321
        }
      ]
    },
    {
      "cell_type": "code",
      "metadata": {
        "id": "F_EBobX16AAR",
        "colab_type": "code",
        "outputId": "404a9fee-ac7d-4922-edba-3cd37d379f8e",
        "colab": {
          "base_uri": "https://localhost:8080/",
          "height": 34
        }
      },
      "source": [
        "states_1=train_df_1['state'].unique()\n",
        "states_1"
      ],
      "execution_count": 322,
      "outputs": [
        {
          "output_type": "execute_result",
          "data": {
            "text/plain": [
              "array([19,  4,  8, 14, 17, 13, 15,  0, 11, 12,  5,  1,  7, 18,  9,  3,  2, 16, 10,  6])"
            ]
          },
          "metadata": {
            "tags": []
          },
          "execution_count": 322
        }
      ]
    },
    {
      "cell_type": "code",
      "metadata": {
        "id": "aGRZQ9FjWn-v",
        "colab_type": "code",
        "outputId": "8a0d1a0d-7d3b-4b99-a3c0-502cfa02f254",
        "colab": {
          "base_uri": "https://localhost:8080/",
          "height": 34
        }
      },
      "source": [
        "states_2=train_df_2['state'].unique()\n",
        "states_2"
      ],
      "execution_count": 323,
      "outputs": [
        {
          "output_type": "execute_result",
          "data": {
            "text/plain": [
              "array([ 1,  2,  3,  5,  7,  9,  8, 11, 10, 12, 14, 16, 17, 19])"
            ]
          },
          "metadata": {
            "tags": []
          },
          "execution_count": 323
        }
      ]
    },
    {
      "cell_type": "code",
      "metadata": {
        "id": "ayoRw_19erI4",
        "colab_type": "code",
        "colab": {}
      },
      "source": [
        "Ada_seg_1=[]\n",
        "states_seg_1=[]"
      ],
      "execution_count": 0,
      "outputs": []
    },
    {
      "cell_type": "code",
      "metadata": {
        "id": "nUdAmH06oPGv",
        "colab_type": "code",
        "outputId": "74163048-57c2-435a-c395-70a19c94c3f4",
        "colab": {
          "base_uri": "https://localhost:8080/",
          "height": 357
        }
      },
      "source": [
        "# Using Adaboost Regressor for segment 1\n",
        "final_preds_1=np.array([])\n",
        "final_dates_1=np.array([])\n",
        "for i in states_1:\n",
        "  train_df_1[train_df_1['state']==i]['case_count']\n",
        "  y1=train_df_1[train_df_1['state']==i]['case_count']\n",
        "  yv1=valid_df_1[valid_df_1['state']==i]['case_count']\n",
        "  X1=train_df_1[train_df_1['state']==i].drop(columns=['case_count'])\n",
        "  Xv1=valid_df_1[valid_df_1['state']==i].drop(columns=['case_count'])\n",
        "\n",
        "  ada_1 = AdaBoostRegressor(DecisionTreeRegressor(max_depth=17), n_estimators=300, loss='exponential')\n",
        "  ada_1.fit(X1, y1)\n",
        "  yp1=ada_1.predict(Xv1)\n",
        "  metric=mean_absolute_error(yv1, yp1)\n",
        "  Ada_seg_1.append(round(metric,3))\n",
        "  states_seg_1.append(state_dict_rev[i])\n",
        "  print(\"Metric for State\", state_dict_rev[i],\"=\",round(metric,3))\n",
        "\n",
        "  ada_preds1 = ada_1.predict(test_df_1[test_df_1['state']==i])\n",
        "  dates1=pred_test_df_1[pred_test_df_1['state']==state_dict_rev[i]]['application_date']\n",
        "  dates1=dates1.astype('str').to_numpy()\n",
        "\n",
        "  final_preds_1=np.append(final_preds_1, ada_preds1, axis=0)\n",
        "  final_dates_1=np.append(final_dates_1, dates1, axis=0)"
      ],
      "execution_count": 325,
      "outputs": [
        {
          "output_type": "stream",
          "text": [
            "Metric for State WEST BENGAL = 17.805\n",
            "Metric for State DELHI = 36.316\n",
            "Metric for State KARNATAKA = 24.034\n",
            "Metric for State TAMIL NADU = 10.372\n",
            "Metric for State UTTAR PRADESH = 5.496\n",
            "Metric for State PUNJAB = 6.852\n",
            "Metric for State TELANGANA = 14.413\n",
            "Metric for State ANDHRA PRADESH = 3.143\n",
            "Metric for State MAHARASHTRA = 11.668\n",
            "Metric for State ORISSA = 29.368\n",
            "Metric for State GUJARAT = 17.181\n",
            "Metric for State ASSAM = 17.418\n",
            "Metric for State JHARKHAND = 7.994\n",
            "Metric for State UTTARAKHAND = 10.364\n",
            "Metric for State KERALA = 6.684\n",
            "Metric for State CHHATTISGARH = 3.453\n",
            "Metric for State BIHAR = 11.975\n",
            "Metric for State TRIPURA = 12.37\n",
            "Metric for State MADHYA PRADESH = 11.987\n",
            "Metric for State HARYANA = 4.84\n"
          ],
          "name": "stdout"
        }
      ]
    },
    {
      "cell_type": "code",
      "metadata": {
        "id": "mF_nFdU49Lfe",
        "colab_type": "code",
        "outputId": "d5fe8470-038e-4655-8a61-3a2111aa7701",
        "colab": {
          "base_uri": "https://localhost:8080/",
          "height": 34
        }
      },
      "source": [
        "len(final_dates_1)==len(final_preds_1)"
      ],
      "execution_count": 326,
      "outputs": [
        {
          "output_type": "execute_result",
          "data": {
            "text/plain": [
              "True"
            ]
          },
          "metadata": {
            "tags": []
          },
          "execution_count": 326
        }
      ]
    },
    {
      "cell_type": "code",
      "metadata": {
        "id": "91xud8SmFIcP",
        "colab_type": "code",
        "colab": {}
      },
      "source": [
        "Ada_seg_2=[]\n",
        "states_seg_2=[]"
      ],
      "execution_count": 0,
      "outputs": []
    },
    {
      "cell_type": "code",
      "metadata": {
        "id": "xDXKeZd1oPD7",
        "colab_type": "code",
        "outputId": "82b4e9e8-36c5-4301-b391-01b4acf93ccb",
        "colab": {
          "base_uri": "https://localhost:8080/",
          "height": 255
        }
      },
      "source": [
        "# Using Adaboost Regressor for segment 2\n",
        "final_preds_2=np.array([])\n",
        "final_dates_2=np.array([])\n",
        "for i in states_2:\n",
        "  train_df_2[train_df_2['state']==i]['case_count']\n",
        "  y2=train_df_2[train_df_2['state']==i]['case_count']\n",
        "  yv2=valid_df_2[valid_df_2['state']==i]['case_count']\n",
        "  X2=train_df_2[train_df_2['state']==i].drop(columns=['case_count'])\n",
        "  Xv2=valid_df_2[valid_df_2['state']==i].drop(columns=['case_count'])\n",
        "\n",
        "  ada_2 = AdaBoostRegressor(DecisionTreeRegressor(max_depth=22), n_estimators=300, loss='exponential')\n",
        "  ada_2.fit(X2, y2)\n",
        "  yp2=ada_2.predict(Xv2)\n",
        "  metric=mean_absolute_error(yv2, yp2)\n",
        "  Ada_seg_2.append(round(metric,3))\n",
        "  states_seg_2.append(state_dict_rev[i])\n",
        "  print(\"Metric for State\", state_dict_rev[i],\"=\",round(metric,3))\n",
        "\n",
        "  ada_preds2 = ada_2.predict(test_df_2[test_df_2['state']==i])\n",
        "  dates2 = pred_test_df_2[pred_test_df_2['state']==state_dict_rev[i]]['application_date']\n",
        "  dates2=dates2.astype('str').to_numpy()\n",
        "\n",
        "  final_preds_2=np.append(final_preds_2, ada_preds2, axis=0)\n",
        "  final_dates_2=np.append(final_dates_2, dates2, axis=0)"
      ],
      "execution_count": 328,
      "outputs": [
        {
          "output_type": "stream",
          "text": [
            "Metric for State ASSAM = 76.435\n",
            "Metric for State BIHAR = 553.0\n",
            "Metric for State CHHATTISGARH = 39.174\n",
            "Metric for State GUJARAT = 60.957\n",
            "Metric for State JHARKHAND = 81.217\n",
            "Metric for State KERALA = 121.217\n",
            "Metric for State KARNATAKA = 193.913\n",
            "Metric for State MAHARASHTRA = 51.174\n",
            "Metric for State MADHYA PRADESH = 145.913\n",
            "Metric for State ORISSA = 222.739\n",
            "Metric for State TAMIL NADU = 570.435\n",
            "Metric for State TRIPURA = 39.087\n",
            "Metric for State UTTAR PRADESH = 53.478\n",
            "Metric for State WEST BENGAL = 127.522\n"
          ],
          "name": "stdout"
        }
      ]
    },
    {
      "cell_type": "code",
      "metadata": {
        "id": "j6lXmweYGUhc",
        "colab_type": "code",
        "outputId": "1a4634b8-e9cb-4141-8c73-f4233f4c9382",
        "colab": {
          "base_uri": "https://localhost:8080/",
          "height": 34
        }
      },
      "source": [
        "len(final_dates_2)==len(final_preds_2)"
      ],
      "execution_count": 329,
      "outputs": [
        {
          "output_type": "execute_result",
          "data": {
            "text/plain": [
              "True"
            ]
          },
          "metadata": {
            "tags": []
          },
          "execution_count": 329
        }
      ]
    },
    {
      "cell_type": "code",
      "metadata": {
        "id": "JdwFvUBAAw8J",
        "colab_type": "code",
        "colab": {}
      },
      "source": [
        "pd_df_1=pd.DataFrame({'application_date':final_dates_1, 'preds':final_preds_1.astype(int)})\n",
        "pd_df_2=pd.DataFrame({'application_date':final_dates_2, 'preds':final_preds_2.astype(int)})"
      ],
      "execution_count": 0,
      "outputs": []
    },
    {
      "cell_type": "code",
      "metadata": {
        "id": "Bhl3gfRKpg2L",
        "colab_type": "code",
        "colab": {}
      },
      "source": [
        "# Summing up predictions datewise\n",
        "seg_1_preds=pd_df_1.groupby(['application_date']).sum()\n",
        "seg_2_preds=pd_df_2.groupby(['application_date']).sum()\n",
        "seg_1_preds.reset_index(drop=True, inplace=True)\n",
        "seg_2_preds.reset_index(drop=True, inplace=True)"
      ],
      "execution_count": 0,
      "outputs": []
    },
    {
      "cell_type": "code",
      "metadata": {
        "id": "VAYUHoSzoO9S",
        "colab_type": "code",
        "colab": {}
      },
      "source": [
        "# Predictions to submission file\n",
        "sub_df_pred = pd.concat([seg_1_preds, seg_2_preds])\n",
        "sub_df['case_count']=sub_df_pred['preds'].values\n",
        "sub_df.to_csv(path+'My_Outputs'+'/'+'Submission_Individual_Ada_Boost.csv',index=False)"
      ],
      "execution_count": 0,
      "outputs": []
    },
    {
      "cell_type": "code",
      "metadata": {
        "id": "Yp57hqMtD_yd",
        "colab_type": "code",
        "colab": {}
      },
      "source": [
        ""
      ],
      "execution_count": 0,
      "outputs": []
    }
  ]
}